{
 "cells": [
  {
   "cell_type": "markdown",
   "metadata": {},
   "source": [
    "<a href=\"https://www.bigdatauniversity.com\"><img src = \"https://ibm.box.com/shared/static/jvcqp2iy2jlx2b32rmzdt0tx8lvxgzkp.png\" width = 300, align = \"center\"></a>\n",
    "<h1 align=\"center\"> Non Linear Regression </h1><br>"
   ]
  },
  {
   "cell_type": "markdown",
   "metadata": {},
   "source": [
    "<div class=\"alert alert-block alert-info\" style=\"margin-top: 20px\">\n",
    "<font size = 3><strong>In this section we will overview the Non Linear Regression and using TensorFlow for Non Linear Regression</strong></font>\n",
    "<br>\n",
    "- <p><a href=\"#ref1\">Non Linear Regression</a></p>\n",
    "- <p><a href=\"#ref1.1\">Link function </a></p>\n",
    "    * <a href=\"#ref1.2\">sigmoid</a>\n",
    "    * <a href=\"#ref1.3\">Log</a>\n",
    "- <p><a href=\"#ref2\">Non Linear Regression with TensorFlow</a></p>\n",
    "    * <a id=\"#ref2.1\"> Explore the Data</a>\n",
    "    * <a href=\"#ref2.3\">Model setup in TensorFlow</a>\n",
    "    * <a href=\"#ref2.4\">Loss function setup  in TensorFlow</a>\n",
    "    * <a href=\"#ref2.5\">Training the model</a>\n",
    "\n",
    "</div>\n",
    "<br>\n",
    "\n",
    "---------"
   ]
  },
  {
   "cell_type": "markdown",
   "metadata": {},
   "source": [
    "<a id=\"ref1\"></a>\n",
    "## Non Linear Regression\n",
    "<h6>Let's learn about non linear regressions and apply an example on TensorFlow</h6>"
   ]
  },
  {
   "cell_type": "markdown",
   "metadata": {},
   "source": [
    "Importing some libraries"
   ]
  },
  {
   "cell_type": "code",
   "execution_count": 1,
   "metadata": {
    "ExecuteTime": {
     "end_time": "2018-10-29T17:49:13.459641Z",
     "start_time": "2018-10-29T17:49:12.390158Z"
    }
   },
   "outputs": [],
   "source": [
    "import numpy as np\n",
    "import tensorflow as tf\n",
    "import matplotlib.pyplot as plt\n",
    "%matplotlib inline"
   ]
  },
  {
   "cell_type": "markdown",
   "metadata": {
    "collapsed": true
   },
   "source": [
    "Non-linear regressions are a relationship between independent variables $x$ and a dependent variable $y$ which result in a non-linear function modeled data. Essentially any relationship that is not linear can be termed as non-linear, and is usually represented by the polynomial of $k$ degrees (maximum power of $x$). This expression can be further transformed on the right side of the equation with function which are called as **link** functions denoted by $f$. some of the well-known link functions are sigmoid ( also known as logit in statistics world), log, log-complmentary-log, and exponential. "
   ]
  },
  {
   "cell_type": "markdown",
   "metadata": {},
   "source": [
    "\\begin{equation}\n",
    "y = f(\\beta_0+ \\beta_1 x + \\beta_2 x^2 +...+\\beta_k x^k) \\dots \\ (1)\n",
    "\\end{equation}\n",
    "where, $\\beta_i$'s are parameters to be estimated that makes the model fit perfectly to the underlying data.\n",
    "Let us consider one of the simple scenario where the degrees of the non-linear polynomial regression is 2(quadratic) and 3(cubic), and the link function is **identity**, so the equation is written simply as: \n",
    "$$y = \\beta_0+ \\beta_1 x + \\beta_2 x^2 +...+\\beta_k x^k $$"
   ]
  },
  {
   "cell_type": "code",
   "execution_count": 8,
   "metadata": {
    "ExecuteTime": {
     "end_time": "2018-10-29T17:49:48.024749Z",
     "start_time": "2018-10-29T17:49:47.896303Z"
    }
   },
   "outputs": [
    {
     "data": {
      "image/png": "[encoded data removed]",
      "text/plain": [
       "<Figure size 432x288 with 1 Axes>"
      ]
     },
     "metadata": {
      "needs_background": "light"
     },
     "output_type": "display_data"
    }
   ],
   "source": [
    "x = np.arange(-5.0, 5.0, 0.1)\n",
    "\n",
    "## Please feel free to change the parameters\n",
    "beta0=100\n",
    "beta1=5\n",
    "beta2=2   # this represents quadratic term\n",
    "beta3=1  # this represents cubic term\n",
    "\n",
    "y= beta0 + beta1*x + beta2*(x**2)+ beta3*(x**3)\n",
    "\n",
    "plt.plot(x,y) \n",
    "plt.ylabel('Dependent Variable')\n",
    "plt.xlabel('Indepdendent Variable')\n",
    "plt.show()"
   ]
  },
  {
   "cell_type": "markdown",
   "metadata": {},
   "source": [
    "As you can see, this function has $x^3$ and $x^2$ as independent variables. Also, the graphic of this function is not a straight line over the 2D plane. So this is a non-linear function."
   ]
  },
  {
   "cell_type": "markdown",
   "metadata": {},
   "source": [
    "<a id=\"ref1.1\"></a>\n",
    "### Link function: \n",
    "The function $f$ represented in equation $(1)$ is a link function or also refered to as activation function in machine-learning world. Note that the activation function always get linear input whereas here we can give non-linear inputs to the function: There few highly used such link functions like sigmoid, log, complementary log-log, Gaussian, or Identity function; any other form of such function would be sub-case of these functions or an apparent of inverse of the these functions. \n",
    "\n",
    "<a id=\"ref1.2\"></a>\n",
    "#### sigmoid\n",
    "Sigmoid is a transformation and it is expressed as follows\n",
    "\\begin{equation}\n",
    "y = \\frac{1}{1+e^{-X}}  \\dots \\ (2)\n",
    "\\end{equation}\n",
    "whereas, $X$ is $ (\\beta_0+ \\beta_1 x + \\beta_2 x^2 +...+\\beta_k x^k) $. This link function restricts the response between values 0 to 1.  There are many different forms of these sigmoid link functions which would map the inputs (a.k.a independent variables: $x$) to output (a.k.a dependent variable $y$) between -1 to 1, which is perferred in machine learning world.\n",
    "\n",
    "For now we would be working with simplest case of this sigmoid function on the one degree polynomial function denoted in the equation $(2)$ as : $ y = \\frac{1}{1+e^{-x}} $. ** Make sure to work with different degrees of polynomial function with in it**"
   ]
  },
  {
   "cell_type": "code",
   "execution_count": 15,
   "metadata": {
    "ExecuteTime": {
     "end_time": "2018-10-29T17:53:05.566029Z",
     "start_time": "2018-10-29T17:53:05.438005Z"
    }
   },
   "outputs": [
    {
     "data": {
      "image/png": "[encoded data removed]",
      "text/plain": [
       "<Figure size 432x288 with 1 Axes>"
      ]
     },
     "metadata": {
      "needs_background": "light"
     },
     "output_type": "display_data"
    }
   ],
   "source": [
    "x = np.arange(-5.0, 5.0, 0.1)\n",
    "\n",
    "## Please feel free to change the parameters\n",
    "beta0=1\n",
    "beta1=1\n",
    "beta2=5   # this represents quadratic term\n",
    "beta3=2  # this represents cubic term\n",
    "\n",
    "\n",
    "X =  beta0 + beta1*x + beta2*(x**2)+ beta3*(x**3)\n",
    "\n",
    "# linking function.\n",
    "y = 1/(1+np.exp(-X))\n",
    "\n",
    "plt.plot(x,y) \n",
    "plt.ylabel('Dependent Variable')\n",
    "plt.xlabel('Indepdendent Variable')\n",
    "plt.show()"
   ]
  },
  {
   "cell_type": "markdown",
   "metadata": {},
   "source": [
    "<a id=\"ref1.3\"></a>\n",
    "#### Log\n",
    "The response $y$ is a results of applying logarithmic map from input $x$'s to output variable $y$, in general form it would be written as  \n",
    "\\begin{equation}\n",
    "y = \\log(X)\n",
    "\\end{equation}\n",
    "\n",
    "conditional on  $X$ being positive, whereas, as described in previous section $X$ is polynomial representation of the $x$'s. One of the simplest form of the above relationship would be with polynomial with 1 degree, and no parameters to be estimated i.e. $$ y = \\log(x)$$\n",
    "\n",
    "**Note: try out few beta parameters with non-zero-values to see the effect on curve **"
   ]
  },
  {
   "cell_type": "code",
   "execution_count": 21,
   "metadata": {
    "ExecuteTime": {
     "end_time": "2018-10-29T17:53:51.906295Z",
     "start_time": "2018-10-29T17:53:51.772571Z"
    }
   },
   "outputs": [
    {
     "data": {
      "image/png": "[encoded data removed]",
      "text/plain": [
       "<Figure size 432x288 with 1 Axes>"
      ]
     },
     "metadata": {
      "needs_background": "light"
     },
     "output_type": "display_data"
    }
   ],
   "source": [
    "x = np.arange(0.1, 5.0, 0.1)\n",
    "\n",
    "## Please feel free to change the parameters\n",
    "beta0=0\n",
    "beta1=1\n",
    "beta2=8   # this represents quadratic term\n",
    "beta3=5  # this represents cubic term\n",
    "\n",
    "X = beta0 + beta1*x + beta2*(x**2)+ beta3*(x**3)\n",
    "\n",
    "# mapping via link function\n",
    "y = np.log(X)\n",
    "\n",
    "plt.plot(x,y) \n",
    "plt.ylabel('Dependent Variable')\n",
    "plt.xlabel('Indepdendent Variable')\n",
    "plt.show()"
   ]
  },
  {
   "cell_type": "markdown",
   "metadata": {},
   "source": []
  },
  {
   "cell_type": "markdown",
   "metadata": {},
   "source": [
    "<a id=\"ref2\"></a>\n",
    "# Non-Linear Regression with TensorFlow"
   ]
  },
  {
   "cell_type": "markdown",
   "metadata": {},
   "source": [
    "In this section we would be looking at the use of tensorflow paradigm by building the session and then training the model using data. The process of training involves optimizing the loss functions  using techniques such as gradient descent approach and find the best possible solutions for the parameters of interest. \n",
    "\n",
    "    \n",
    "The following data is from Fernandez-Juricic, et al. (2003). The study examined the effect of human disturbance on the nesting of house sparrows (Passer domesticus). Breeding pairs of birds (\"pairs\") per hectare were counted in 23 parks in Madrid, Spain. They also counted the number of people walking through the park per hectare per minute (\"pedestrians\"). The relationship is nonlinear and nonmonotonic, as shown by a scatterplot. "
   ]
  },
  {
   "cell_type": "code",
   "execution_count": 23,
   "metadata": {
    "ExecuteTime": {
     "end_time": "2018-10-29T17:55:18.833864Z",
     "start_time": "2018-10-29T17:55:13.345597Z"
    }
   },
   "outputs": [
    {
     "name": "stdout",
     "output_type": "stream",
     "text": [
      "2018-10-29 14:55:18 URL:https://public.boxcloud.com/d/1/b1!6uUlXAn0yTHD0_XlT7mXzNeATvmKkRI1ga0yoxi68replfqVSi6xYKH03ynQ8WNOIABehq7R9lkYfFSF85Y_y6iZEyRXDRq3o_wDtd99dtNEKQGmtliKRe8WNEcqbH_tPlvDAzqJYAYXZxl4csqhV7nkGVmHbV9aTTnxWjrIVvcMipaD_njKKxUrKw1XtgAo1g3k1pPAB4bd4f6SC2AMihyVniQTjdYGaFW4Cz2oVZrWRr-mRTk9JSPW3mw4MMBfrJreMTtU7E65gcYiDKhXgj8BKBz9CsKYdf2VDUDIZ1IktDejXGp5DfRJWuRmjbPP8UJsuX8Pve_iDi6rhNqyL4ynu5h8Bm8DC0IEbYkbQ8HKsBpKTGtgpKz-BVKuSTUUlCYNvGInvHWYNj-WVaRfb4JPrRnFXM6u3Y6tbJ9VFJxBq7JcTJKICmM8D5_3aphXRvTBV2iOxlRT7q8R-vOuqo2WY6DUfBDAkfky8LZqczo2efRMv6zP-6DsSu7BmhvNspPH1vVPNst7ZHiiVwxyJZLG_RQxPNVTNRqENCQCGSRgUTUiZmkFenSUg7K3gSJejQcD4e7jnH6T21Nj0TQWLazxQj-kagm4om-gkjMcfoPvTrzcbEQPAeI-JaMMe9Cm1t3vC2VjocntjRUUVF_Oswnj8hIsNyTNyHoyu4EU1c1Iybl6TVhSTjXEN_3gtrLcL75MmIq1EYR2JcI6IXOt2MGf1N3Tsvh2MvzpCM754hjz2i80gAkZi4LT7AuwUcaprO0alwu_ms2273OAbxCjHP15VC3azR-timqDzTvuWqy68SNCxyz84MlJXP9zcmHsDD0vC1SSXpVCTfe2e98AyKKP-QdxVA6n73b5-1tMjqU8zcMsyCCin8LzyXqUY2yuSU6a7LUHl8RUBYupkAJ7M5-HeVz-vGpq-kLOzRo20sLWX5QpFemlyD5vRY1ipXLgENrrf-YNMxPhVpvAXAmCX4jcew5leOkT1BClm-02Qz0UGhFlV-qR83fYv9zrKBVTVD89_jrtXy9PyEkmWcPC4qm7Xj1nFnV9Xaet6cil6PjQgroYeG0n6gasXM5cOYGb3QXpoDKoQTAZ49AQRFdsvtyVi-HG4_eqo0HuV1BpSk88yOHHbJkcqWB6f7JBGe6lcQvW7n4foQLxRpQ0LVAajInhrUpQspHfm14P3nLgHb2qjNNKr-BT0eOEq0u3jMD714mqsU6xn8NxNZNqKMUjEdQipXShNEWkmgGvdwTOsLQNWcjxLSU88k6lAvciZCPr0pTrSbZhB3pZHkM6FJLdNXfc82wLzmY94l6s5M0nVRv0CSXJeIiiH-8M7gadHpWfF--eOJ9cXcc4F6yEl8mfMoVyKKJ2KhuAKC_dbW8./download [1218/1218] -> \"china_gdp.csv\" [1]\r\n"
     ]
    }
   ],
   "source": [
    "!wget -nv -O china_gdp.csv https://ibm.box.com/shared/static/ccd2tu4wvkwi1f6yp4mm1ztsyt1ygphv.csv"
   ]
  },
  {
   "cell_type": "code",
   "execution_count": 27,
   "metadata": {
    "ExecuteTime": {
     "end_time": "2018-10-29T17:55:49.188224Z",
     "start_time": "2018-10-29T17:55:49.177553Z"
    }
   },
   "outputs": [
    {
     "data": {
      "text/html": [
       "<div>\n",
       "<style scoped>\n",
       "    .dataframe tbody tr th:only-of-type {\n",
       "        vertical-align: middle;\n",
       "    }\n",
       "\n",
       "    .dataframe tbody tr th {\n",
       "        vertical-align: top;\n",
       "    }\n",
       "\n",
       "    .dataframe thead th {\n",
       "        text-align: right;\n",
       "    }\n",
       "</style>\n",
       "<table border=\"1\" class=\"dataframe\">\n",
       "  <thead>\n",
       "    <tr style=\"text-align: right;\">\n",
       "      <th></th>\n",
       "      <th>Year</th>\n",
       "      <th>Value</th>\n",
       "    </tr>\n",
       "  </thead>\n",
       "  <tbody>\n",
       "    <tr>\n",
       "      <th>0</th>\n",
       "      <td>1960</td>\n",
       "      <td>5.918412e+10</td>\n",
       "    </tr>\n",
       "    <tr>\n",
       "      <th>1</th>\n",
       "      <td>1961</td>\n",
       "      <td>4.955705e+10</td>\n",
       "    </tr>\n",
       "    <tr>\n",
       "      <th>2</th>\n",
       "      <td>1962</td>\n",
       "      <td>4.668518e+10</td>\n",
       "    </tr>\n",
       "    <tr>\n",
       "      <th>3</th>\n",
       "      <td>1963</td>\n",
       "      <td>5.009730e+10</td>\n",
       "    </tr>\n",
       "    <tr>\n",
       "      <th>4</th>\n",
       "      <td>1964</td>\n",
       "      <td>5.906225e+10</td>\n",
       "    </tr>\n",
       "  </tbody>\n",
       "</table>\n",
       "</div>"
      ],
      "text/plain": [
       "   Year         Value\n",
       "0  1960  5.918412e+10\n",
       "1  1961  4.955705e+10\n",
       "2  1962  4.668518e+10\n",
       "3  1963  5.009730e+10\n",
       "4  1964  5.906225e+10"
      ]
     },
     "execution_count": 27,
     "metadata": {},
     "output_type": "execute_result"
    }
   ],
   "source": [
    "import pandas as pd\n",
    "\n",
    "# #downloading dataset\n",
    "# !wget -nv -O /resources/data/china_gdp.csv https://ibm.box.com/shared/static/ccd2tu4wvkwi1f6yp4mm1ztsyt1ygphv.csv\n",
    "df = pd.read_csv(\"china_gdp.csv\")\n",
    "\n",
    "# JAG this is to be switche with DSWB path\n",
    "# df = pd.read_csv(\"https://ibm.box.com/shared/static/7tr6tai74kdk3vik815k2frl54kfuw4h.csv\")\n",
    "\n",
    "df.head()"
   ]
  },
  {
   "cell_type": "markdown",
   "metadata": {},
   "source": [
    "<a id=\"ref2.1\"></a>\n",
    "### Explore the Data\n",
    "The data corresponds to determination of the age by the length of the fish, each data point is the measurement on a fish. Its kind of looks like an exponential function. The growth starts off slow, then from 2005 on forward, the growth is very significant. And finally, it deaccelerates slightly in the 2010s."
   ]
  },
  {
   "cell_type": "code",
   "execution_count": 31,
   "metadata": {
    "ExecuteTime": {
     "end_time": "2018-10-29T17:57:22.059887Z",
     "start_time": "2018-10-29T17:57:21.906971Z"
    }
   },
   "outputs": [
    {
     "data": {
      "text/plain": [
       "Text(0, 0.5, 'GDP')"
      ]
     },
     "execution_count": 31,
     "metadata": {},
     "output_type": "execute_result"
    },
    {
     "data": {
      "image/png": "[encoded data removed]",
      "text/plain": [
       "<Figure size 432x288 with 1 Axes>"
      ]
     },
     "metadata": {
      "needs_background": "light"
     },
     "output_type": "display_data"
    }
   ],
   "source": [
    "x_data, y_data = (df[\"Year\"].values, df[\"Value\"].values)\n",
    "\n",
    "# plots the data points\n",
    "plt.plot(x_data, y_data, 'ro')\n",
    "\n",
    "# label the axis\n",
    "plt.xlabel(\"Year\")\n",
    "plt.ylabel(\"GDP\")"
   ]
  },
  {
   "cell_type": "markdown",
   "metadata": {},
   "source": [
    "From an initial look at the plot, we determine that the three degree non-linear regression function could be a good approximation. As the data shows more than 2 curvatures, we can start 3 degree polynomial regression\n",
    "let us fit the data with an arbitrary 3rd degree polynomial model\n"
   ]
  },
  {
   "cell_type": "code",
   "execution_count": 66,
   "metadata": {
    "ExecuteTime": {
     "end_time": "2018-10-29T18:24:40.096408Z",
     "start_time": "2018-10-29T18:24:40.093121Z"
    }
   },
   "outputs": [],
   "source": [
    "from sklearn.preprocessing import MinMaxScaler\n",
    "scaler = MinMaxScaler()\n",
    "normalized = scaler.fit_transform(df.values)"
   ]
  },
  {
   "cell_type": "code",
   "execution_count": 69,
   "metadata": {
    "ExecuteTime": {
     "end_time": "2018-10-29T18:25:15.311387Z",
     "start_time": "2018-10-29T18:25:15.307118Z"
    }
   },
   "outputs": [],
   "source": [
    "x_data = normalized[:, 0]\n",
    "y_data = normalized[:, 1]"
   ]
  },
  {
   "cell_type": "code",
   "execution_count": 72,
   "metadata": {
    "ExecuteTime": {
     "end_time": "2018-10-29T18:25:33.645675Z",
     "start_time": "2018-10-29T18:25:33.500296Z"
    }
   },
   "outputs": [
    {
     "data": {
      "text/plain": [
       "[<matplotlib.lines.Line2D at 0x7f78787695f8>]"
      ]
     },
     "execution_count": 72,
     "metadata": {},
     "output_type": "execute_result"
    },
    {
     "data": {
      "image/png": "[encoded data removed]",
      "text/plain": [
       "<Figure size 432x288 with 1 Axes>"
      ]
     },
     "metadata": {
      "needs_background": "light"
     },
     "output_type": "display_data"
    }
   ],
   "source": [
    "## Please feel free to change the parameters\n",
    "x = x_data\n",
    "beta0=0    # represents the intercept on yaxis\n",
    "beta1=1.0   # represents the slope of the line\n",
    "beta2= 1   # this represents quadratic term\n",
    "beta3=1  # this represents cubic term\n",
    "\n",
    "\n",
    "y =  beta0 + beta1*x + beta2*(x**2)+ beta3*(x**3)\n",
    "\n",
    "plt.plot(x_data,y_data,'ro')\n",
    "plt.plot(x_data,y)"
   ]
  },
  {
   "cell_type": "markdown",
   "metadata": {},
   "source": [
    "<a id=\"ref2.3\"></a>\n",
    "### Model setup in TensorFlow\n",
    "Now, let's build our regression model and initialize its parameters. "
   ]
  },
  {
   "cell_type": "code",
   "execution_count": 92,
   "metadata": {
    "ExecuteTime": {
     "end_time": "2018-10-29T18:40:39.581549Z",
     "start_time": "2018-10-29T18:40:38.954722Z"
    },
    "scrolled": true
   },
   "outputs": [
    {
     "name": "stdout",
     "output_type": "stream",
     "text": [
      "0 None 52.680832\n",
      "100 None 0.075946085\n",
      "200 None 0.075946085\n",
      "300 None 0.075946085\n",
      "400 None 0.075946085\n",
      "3.8881768e-23\n"
     ]
    },
    {
     "ename": "ValueError",
     "evalue": "x and y must have same first dimension, but have shapes (55,) and (1,)",
     "output_type": "error",
     "traceback": [
      "\u001b[0;31m---------------------------------------------------------------------------\u001b[0m",
      "\u001b[0;31mValueError\u001b[0m                                Traceback (most recent call last)",
      "\u001b[0;32m<ipython-input-92-a0d99ca0e09d>\u001b[0m in \u001b[0;36m<module>\u001b[0;34m\u001b[0m\n\u001b[1;32m     25\u001b[0m     \u001b[0mpred\u001b[0m\u001b[0;34m,\u001b[0m\u001b[0mfactor\u001b[0m \u001b[0;34m=\u001b[0m \u001b[0msess\u001b[0m\u001b[0;34m.\u001b[0m\u001b[0mrun\u001b[0m\u001b[0;34m(\u001b[0m\u001b[0;34m[\u001b[0m\u001b[0my_pred\u001b[0m\u001b[0;34m,\u001b[0m \u001b[0mexp_factor\u001b[0m\u001b[0;34m]\u001b[0m\u001b[0;34m,\u001b[0m \u001b[0mfeed_dict\u001b[0m\u001b[0;34m=\u001b[0m\u001b[0;34m{\u001b[0m\u001b[0mx\u001b[0m\u001b[0;34m:\u001b[0m\u001b[0mx_data\u001b[0m\u001b[0;34m,\u001b[0m\u001b[0my\u001b[0m\u001b[0;34m:\u001b[0m\u001b[0my_data\u001b[0m\u001b[0;34m}\u001b[0m\u001b[0;34m)\u001b[0m\u001b[0;34m\u001b[0m\u001b[0m\n\u001b[1;32m     26\u001b[0m     \u001b[0mprint\u001b[0m\u001b[0;34m(\u001b[0m\u001b[0mpred\u001b[0m\u001b[0;34m)\u001b[0m\u001b[0;34m\u001b[0m\u001b[0m\n\u001b[0;32m---> 27\u001b[0;31m     \u001b[0mplt\u001b[0m\u001b[0;34m.\u001b[0m\u001b[0mplot\u001b[0m\u001b[0;34m(\u001b[0m\u001b[0mx_data\u001b[0m\u001b[0;34m,\u001b[0m \u001b[0mpred\u001b[0m\u001b[0;34m)\u001b[0m\u001b[0;34m\u001b[0m\u001b[0m\n\u001b[0m\u001b[1;32m     28\u001b[0m     \u001b[0mplt\u001b[0m\u001b[0;34m.\u001b[0m\u001b[0mplot\u001b[0m\u001b[0;34m(\u001b[0m\u001b[0mx_data\u001b[0m\u001b[0;34m,\u001b[0m \u001b[0my_data\u001b[0m\u001b[0;34m,\u001b[0m \u001b[0;34m'ro'\u001b[0m\u001b[0;34m)\u001b[0m\u001b[0;34m\u001b[0m\u001b[0m\n\u001b[1;32m     29\u001b[0m     \u001b[0mprint\u001b[0m\u001b[0;34m(\u001b[0m\u001b[0;34m\"beta_0 = %f, beta_1 = %f, beta_2 = %f, beta_3 = %f\"\u001b[0m \u001b[0;34m%\u001b[0m \u001b[0;34m(\u001b[0m\u001b[0mb0\u001b[0m\u001b[0;34m,\u001b[0m\u001b[0mb1\u001b[0m\u001b[0;34m,\u001b[0m \u001b[0mb2\u001b[0m\u001b[0;34m,\u001b[0m \u001b[0mb3\u001b[0m\u001b[0;34m)\u001b[0m\u001b[0;34m)\u001b[0m\u001b[0;34m\u001b[0m\u001b[0m\n",
      "\u001b[0;32m~/.local/lib/python3.6/site-packages/matplotlib/pyplot.py\u001b[0m in \u001b[0;36mplot\u001b[0;34m(scalex, scaley, data, *args, **kwargs)\u001b[0m\n\u001b[1;32m   2747\u001b[0m \u001b[0;32mdef\u001b[0m \u001b[0mplot\u001b[0m\u001b[0;34m(\u001b[0m\u001b[0;34m*\u001b[0m\u001b[0margs\u001b[0m\u001b[0;34m,\u001b[0m \u001b[0mscalex\u001b[0m\u001b[0;34m=\u001b[0m\u001b[0;32mTrue\u001b[0m\u001b[0;34m,\u001b[0m \u001b[0mscaley\u001b[0m\u001b[0;34m=\u001b[0m\u001b[0;32mTrue\u001b[0m\u001b[0;34m,\u001b[0m \u001b[0mdata\u001b[0m\u001b[0;34m=\u001b[0m\u001b[0;32mNone\u001b[0m\u001b[0;34m,\u001b[0m \u001b[0;34m**\u001b[0m\u001b[0mkwargs\u001b[0m\u001b[0;34m)\u001b[0m\u001b[0;34m:\u001b[0m\u001b[0;34m\u001b[0m\u001b[0m\n\u001b[1;32m   2748\u001b[0m     return gca().plot(\n\u001b[0;32m-> 2749\u001b[0;31m         *args, scalex=scalex, scaley=scaley, data=data, **kwargs)\n\u001b[0m\u001b[1;32m   2750\u001b[0m \u001b[0;34m\u001b[0m\u001b[0m\n\u001b[1;32m   2751\u001b[0m \u001b[0;31m# Autogenerated by boilerplate.py.  Do not edit as changes will be lost.\u001b[0m\u001b[0;34m\u001b[0m\u001b[0;34m\u001b[0m\u001b[0m\n",
      "\u001b[0;32m~/.local/lib/python3.6/site-packages/matplotlib/__init__.py\u001b[0m in \u001b[0;36minner\u001b[0;34m(ax, data, *args, **kwargs)\u001b[0m\n\u001b[1;32m   1783\u001b[0m                         \u001b[0;34m\"the Matplotlib list!)\"\u001b[0m \u001b[0;34m%\u001b[0m \u001b[0;34m(\u001b[0m\u001b[0mlabel_namer\u001b[0m\u001b[0;34m,\u001b[0m \u001b[0mfunc\u001b[0m\u001b[0;34m.\u001b[0m\u001b[0m__name__\u001b[0m\u001b[0;34m)\u001b[0m\u001b[0;34m,\u001b[0m\u001b[0;34m\u001b[0m\u001b[0m\n\u001b[1;32m   1784\u001b[0m                         RuntimeWarning, stacklevel=2)\n\u001b[0;32m-> 1785\u001b[0;31m             \u001b[0;32mreturn\u001b[0m \u001b[0mfunc\u001b[0m\u001b[0;34m(\u001b[0m\u001b[0max\u001b[0m\u001b[0;34m,\u001b[0m \u001b[0;34m*\u001b[0m\u001b[0margs\u001b[0m\u001b[0;34m,\u001b[0m \u001b[0;34m**\u001b[0m\u001b[0mkwargs\u001b[0m\u001b[0;34m)\u001b[0m\u001b[0;34m\u001b[0m\u001b[0m\n\u001b[0m\u001b[1;32m   1786\u001b[0m \u001b[0;34m\u001b[0m\u001b[0m\n\u001b[1;32m   1787\u001b[0m         inner.__doc__ = _add_data_doc(inner.__doc__,\n",
      "\u001b[0;32m~/.local/lib/python3.6/site-packages/matplotlib/axes/_axes.py\u001b[0m in \u001b[0;36mplot\u001b[0;34m(self, scalex, scaley, *args, **kwargs)\u001b[0m\n\u001b[1;32m   1602\u001b[0m         \u001b[0mkwargs\u001b[0m \u001b[0;34m=\u001b[0m \u001b[0mcbook\u001b[0m\u001b[0;34m.\u001b[0m\u001b[0mnormalize_kwargs\u001b[0m\u001b[0;34m(\u001b[0m\u001b[0mkwargs\u001b[0m\u001b[0;34m,\u001b[0m \u001b[0mmlines\u001b[0m\u001b[0;34m.\u001b[0m\u001b[0mLine2D\u001b[0m\u001b[0;34m.\u001b[0m\u001b[0m_alias_map\u001b[0m\u001b[0;34m)\u001b[0m\u001b[0;34m\u001b[0m\u001b[0m\n\u001b[1;32m   1603\u001b[0m \u001b[0;34m\u001b[0m\u001b[0m\n\u001b[0;32m-> 1604\u001b[0;31m         \u001b[0;32mfor\u001b[0m \u001b[0mline\u001b[0m \u001b[0;32min\u001b[0m \u001b[0mself\u001b[0m\u001b[0;34m.\u001b[0m\u001b[0m_get_lines\u001b[0m\u001b[0;34m(\u001b[0m\u001b[0;34m*\u001b[0m\u001b[0margs\u001b[0m\u001b[0;34m,\u001b[0m \u001b[0;34m**\u001b[0m\u001b[0mkwargs\u001b[0m\u001b[0;34m)\u001b[0m\u001b[0;34m:\u001b[0m\u001b[0;34m\u001b[0m\u001b[0m\n\u001b[0m\u001b[1;32m   1605\u001b[0m             \u001b[0mself\u001b[0m\u001b[0;34m.\u001b[0m\u001b[0madd_line\u001b[0m\u001b[0;34m(\u001b[0m\u001b[0mline\u001b[0m\u001b[0;34m)\u001b[0m\u001b[0;34m\u001b[0m\u001b[0m\n\u001b[1;32m   1606\u001b[0m             \u001b[0mlines\u001b[0m\u001b[0;34m.\u001b[0m\u001b[0mappend\u001b[0m\u001b[0;34m(\u001b[0m\u001b[0mline\u001b[0m\u001b[0;34m)\u001b[0m\u001b[0;34m\u001b[0m\u001b[0m\n",
      "\u001b[0;32m~/.local/lib/python3.6/site-packages/matplotlib/axes/_base.py\u001b[0m in \u001b[0;36m_grab_next_args\u001b[0;34m(self, *args, **kwargs)\u001b[0m\n\u001b[1;32m    391\u001b[0m                 \u001b[0mthis\u001b[0m \u001b[0;34m+=\u001b[0m \u001b[0margs\u001b[0m\u001b[0;34m[\u001b[0m\u001b[0;36m0\u001b[0m\u001b[0;34m]\u001b[0m\u001b[0;34m,\u001b[0m\u001b[0;34m\u001b[0m\u001b[0m\n\u001b[1;32m    392\u001b[0m                 \u001b[0margs\u001b[0m \u001b[0;34m=\u001b[0m \u001b[0margs\u001b[0m\u001b[0;34m[\u001b[0m\u001b[0;36m1\u001b[0m\u001b[0;34m:\u001b[0m\u001b[0;34m]\u001b[0m\u001b[0;34m\u001b[0m\u001b[0m\n\u001b[0;32m--> 393\u001b[0;31m             \u001b[0;32myield\u001b[0m \u001b[0;32mfrom\u001b[0m \u001b[0mself\u001b[0m\u001b[0;34m.\u001b[0m\u001b[0m_plot_args\u001b[0m\u001b[0;34m(\u001b[0m\u001b[0mthis\u001b[0m\u001b[0;34m,\u001b[0m \u001b[0mkwargs\u001b[0m\u001b[0;34m)\u001b[0m\u001b[0;34m\u001b[0m\u001b[0m\n\u001b[0m\u001b[1;32m    394\u001b[0m \u001b[0;34m\u001b[0m\u001b[0m\n\u001b[1;32m    395\u001b[0m \u001b[0;34m\u001b[0m\u001b[0m\n",
      "\u001b[0;32m~/.local/lib/python3.6/site-packages/matplotlib/axes/_base.py\u001b[0m in \u001b[0;36m_plot_args\u001b[0;34m(self, tup, kwargs)\u001b[0m\n\u001b[1;32m    368\u001b[0m             \u001b[0mx\u001b[0m\u001b[0;34m,\u001b[0m \u001b[0my\u001b[0m \u001b[0;34m=\u001b[0m \u001b[0mindex_of\u001b[0m\u001b[0;34m(\u001b[0m\u001b[0mtup\u001b[0m\u001b[0;34m[\u001b[0m\u001b[0;34m-\u001b[0m\u001b[0;36m1\u001b[0m\u001b[0;34m]\u001b[0m\u001b[0;34m)\u001b[0m\u001b[0;34m\u001b[0m\u001b[0m\n\u001b[1;32m    369\u001b[0m \u001b[0;34m\u001b[0m\u001b[0m\n\u001b[0;32m--> 370\u001b[0;31m         \u001b[0mx\u001b[0m\u001b[0;34m,\u001b[0m \u001b[0my\u001b[0m \u001b[0;34m=\u001b[0m \u001b[0mself\u001b[0m\u001b[0;34m.\u001b[0m\u001b[0m_xy_from_xy\u001b[0m\u001b[0;34m(\u001b[0m\u001b[0mx\u001b[0m\u001b[0;34m,\u001b[0m \u001b[0my\u001b[0m\u001b[0;34m)\u001b[0m\u001b[0;34m\u001b[0m\u001b[0m\n\u001b[0m\u001b[1;32m    371\u001b[0m \u001b[0;34m\u001b[0m\u001b[0m\n\u001b[1;32m    372\u001b[0m         \u001b[0;32mif\u001b[0m \u001b[0mself\u001b[0m\u001b[0;34m.\u001b[0m\u001b[0mcommand\u001b[0m \u001b[0;34m==\u001b[0m \u001b[0;34m'plot'\u001b[0m\u001b[0;34m:\u001b[0m\u001b[0;34m\u001b[0m\u001b[0m\n",
      "\u001b[0;32m~/.local/lib/python3.6/site-packages/matplotlib/axes/_base.py\u001b[0m in \u001b[0;36m_xy_from_xy\u001b[0;34m(self, x, y)\u001b[0m\n\u001b[1;32m    229\u001b[0m         \u001b[0;32mif\u001b[0m \u001b[0mx\u001b[0m\u001b[0;34m.\u001b[0m\u001b[0mshape\u001b[0m\u001b[0;34m[\u001b[0m\u001b[0;36m0\u001b[0m\u001b[0;34m]\u001b[0m \u001b[0;34m!=\u001b[0m \u001b[0my\u001b[0m\u001b[0;34m.\u001b[0m\u001b[0mshape\u001b[0m\u001b[0;34m[\u001b[0m\u001b[0;36m0\u001b[0m\u001b[0;34m]\u001b[0m\u001b[0;34m:\u001b[0m\u001b[0;34m\u001b[0m\u001b[0m\n\u001b[1;32m    230\u001b[0m             raise ValueError(\"x and y must have same first dimension, but \"\n\u001b[0;32m--> 231\u001b[0;31m                              \"have shapes {} and {}\".format(x.shape, y.shape))\n\u001b[0m\u001b[1;32m    232\u001b[0m         \u001b[0;32mif\u001b[0m \u001b[0mx\u001b[0m\u001b[0;34m.\u001b[0m\u001b[0mndim\u001b[0m \u001b[0;34m>\u001b[0m \u001b[0;36m2\u001b[0m \u001b[0;32mor\u001b[0m \u001b[0my\u001b[0m\u001b[0;34m.\u001b[0m\u001b[0mndim\u001b[0m \u001b[0;34m>\u001b[0m \u001b[0;36m2\u001b[0m\u001b[0;34m:\u001b[0m\u001b[0;34m\u001b[0m\u001b[0m\n\u001b[1;32m    233\u001b[0m             raise ValueError(\"x and y can be no greater than 2-D, but have \"\n",
      "\u001b[0;31mValueError\u001b[0m: x and y must have same first dimension, but have shapes (55,) and (1,)"
     ]
    },
    {
     "data": {
      "image/png": "[encoded data removed]",
      "text/plain": [
       "<Figure size 432x288 with 1 Axes>"
      ]
     },
     "metadata": {
      "needs_background": "light"
     },
     "output_type": "display_data"
    }
   ],
   "source": [
    "#input for the model, i.e, the 'X' variable\n",
    "# note that placeholder implies that we have pass this parameter when we invoke the \n",
    "# tensorflow paradigm\n",
    "x = tf.placeholder(tf.float32, shape=(x_data.size))\n",
    "y = tf.placeholder(tf.float32,shape=(y_data.size))\n",
    "\n",
    "# tf.Variable call creates a  single updatable copy in the memory and efficiently updates \n",
    "# the copy to relfect any changes in the variable values through out the scope of the tensorflow session\n",
    "exp_factor = tf.Variable(2.0)\n",
    "\n",
    "y_pred = tf.exp(exp_factor)\n",
    "\n",
    "loss = tf.reduce_mean(tf.squared_difference(y_pred,y))\n",
    "optimizer = tf.train.GradientDescentOptimizer(learning_rate=0.5)\n",
    "train = optimizer.minimize(loss)\n",
    "\n",
    "#create session and initialize variables\n",
    "with tf.Session() as sess:\n",
    "    sess.run(tf.global_variables_initializer())\n",
    "    #get prediction with initial parameter values\n",
    "    for i in range(500):\n",
    "        out_i, loss_i= sess.run([train,loss], feed_dict={x:x_data,y:y_data})\n",
    "        if i % 100 == 0:\n",
    "            print(i, out_i, loss_i)\n",
    "    pred,factor = sess.run([y_pred, exp_factor], feed_dict={x:x_data,y:y_data})\n",
    "    plt.plot(x_data, pred)\n",
    "    plt.plot(x_data, y_data, 'ro')\n",
    "    print(\"beta_0 = %f, beta_1 = %f, beta_2 = %f, beta_3 = %f\" % (b0,b1, b2, b3))"
   ]
  },
  {
   "cell_type": "code",
   "execution_count": null,
   "metadata": {},
   "outputs": [],
   "source": [
    "pred,b0, b1, b2, b3 = session.run([y_pred, beta_0, beta_1, beta_2, beta_3], feed_dict={x:x_data,y:y_data})"
   ]
  },
  {
   "cell_type": "markdown",
   "metadata": {},
   "source": [
    "Above, as you can see that the our model setup using TensorFlow operator is successful and the plots produced in same as that we saw in the earlier section. Now, we are going to define a loss function for our regression, so we can train our model to better fit our data. We use mean squared error as our loss function, there are multiple different loss criterias that can be optimized which are based on the distance metric between predicted and the true values of the $Y$\n",
    "\n",
    "$$ loss = \\frac{1}{n}\\sum_{i=1}^n{[Y_i - \\hat{Y}_i]^2} $$\n",
    "\n",
    "\n",
    "\n",
    "<a id=\"ref2.4\"></a>\n",
    "### Loss function setup  in TensorFlow\n",
    "\n",
    "Let us setup the loss function based on the TensorFlow functions, and then have a trial run of the session to see if the loss is calculated without any errors."
   ]
  },
  {
   "cell_type": "code",
   "execution_count": null,
   "metadata": {},
   "outputs": [],
   "source": [
    "# normalization factor\n",
    "nf = 1e-1\n",
    "# loss = tf.reduce_mean(tf.squared_difference(Y_pred * nf, Y * nf))\n",
    "# seting up the loss function\n",
    "loss = tf.reduce_mean(tf.squared_difference(y_pred*nf,y*nf))\n",
    "\n",
    "# check you loss function setup\n",
    "session.run(loss, feed_dict={x:x_data,y:y_data})"
   ]
  },
  {
   "cell_type": "markdown",
   "metadata": {},
   "source": [
    "\n",
    "Now, we bind our loss function to a Gradient Descent Optimizer and *test the learning-rate by re-running the box below  2 to 3 times*. If the loss starts to increase then its good idea to reduce your learning-rate or by reducing the normalization fractor in the above step. Note these gradient optimizations when its comes to non-linear model can be pretty unstable depending on how what is the step-size in the optimization. The gradient Descent optimizer takes in parameter: learning rate, which corresponds to the speed with which the optimizer should learn; there are pros and cons for increasing the learning-rate parameter, training model converges quickly, whereas there is risk of optimizer getting stuck into local optimum solutions **Please feel free to make changes to learning parameter and check its effect**. On the other hand decreasing the learning rate might reduce the convergence speed, but would improve on the optimal solution by not getting stuck in local optimal solutions. Please review other material for further information on the optimization. \n"
   ]
  },
  {
   "cell_type": "code",
   "execution_count": null,
   "metadata": {},
   "outputs": [],
   "source": [
    "# optimizer = tf.train.GradientDescentOptimizer(learning_rate=0.000021)\n",
    "optimizer = tf.train.AdagradOptimizer(0.01 )\n",
    "\n",
    "# pass the loss function that optimizer should optimize on.\n",
    "train = optimizer.minimize(loss)\n",
    "\n",
    "session.run(tf.global_variables_initializer())\n"
   ]
  },
  {
   "cell_type": "code",
   "execution_count": null,
   "metadata": {},
   "outputs": [],
   "source": [
    "out_i, loss_i= session.run([train,loss], feed_dict={x:x_data,y:y_data})\n",
    "\n",
    "\n",
    "print loss_i"
   ]
  },
  {
   "cell_type": "markdown",
   "metadata": {},
   "source": [
    "Once we are happy with your **learning-rate** and **normalization** heuristic parameters we can go ahead and iteratively call the optimizer until the convergence. The number of iterations should be finite and we keep it 1000000$^{th}$ iteration or when the loss change is less than 1e-7 (or any smaller number). One can alway come back to this iteration and change the convergence factor; Note that we have used adaGradOptimizer, which is suppposed to be very robust optmizer and can be very liberal in accepting what learning-rate you want to give to it. "
   ]
  },
  {
   "cell_type": "code",
   "execution_count": null,
   "metadata": {},
   "outputs": [],
   "source": [
    "losses = [float(\"Inf\")]\n",
    "epoch = 100000 #1000000\n",
    "#training loop\n",
    "for steps in  xrange(epoch):\n",
    "    losses.append(session.run([train, loss], feed_dict={x:x_data,y:y_data})[1])\n",
    "    #stop training if loss starts changing by less than 1e-7\n",
    "    if abs(losses[-1] - losses[-2]) < 10^-7:\n",
    "        break\n",
    "    if steps%10000 == 0:\n",
    "        print \"steps = %d  loss = %f\"%(steps,losses[steps])\n",
    "        \n",
    "print \"steps = %d loss = %f\"%(steps,losses[steps])"
   ]
  },
  {
   "cell_type": "markdown",
   "metadata": {},
   "source": [
    "Now we plot our resulting regresssion model."
   ]
  },
  {
   "cell_type": "markdown",
   "metadata": {},
   "source": [
    "<a id=\"ref2.5\"></a>\n",
    "### Training the model \n",
    "\n",
    "Now we make one more call to $session.run$ which doesn't call the $\"loss\"$ function instead it just predicts the x for various values of $y$. Note that the optimization hasn't converged yet, and seems to have been still reducing at a slower rate. Given enough time one would definitely reach a much better solution than what we have got. "
   ]
  },
  {
   "cell_type": "code",
   "execution_count": null,
   "metadata": {
    "scrolled": true
   },
   "outputs": [],
   "source": [
    "#get prediction with trained model\n",
    "pred,b0, b1, b2, b3 = session.run([y_pred, beta_0, beta_1, beta_2, beta_3], feed_dict={x:x_data,y:y_data})\n",
    "\n",
    "#plot the prediction against the datapoints\n",
    "plt.plot(x_data, pred)\n",
    "plt.plot(x_data, y_data, 'ro')\n",
    "\n",
    "#print the final parameters\n",
    "print\"beta_0 = %f, beta_1 = %f, beta_2 = %f, beta_3 = %f\" % (b0,b1, b2, b3)"
   ]
  },
  {
   "cell_type": "markdown",
   "metadata": {},
   "source": [
    "And below we can see how the loss function changes over the training loop."
   ]
  },
  {
   "cell_type": "code",
   "execution_count": null,
   "metadata": {},
   "outputs": [],
   "source": [
    "plt.plot(losses)"
   ]
  },
  {
   "cell_type": "markdown",
   "metadata": {},
   "source": [
    "## Want to learn more?\n",
    "\n",
    "Running deep learning programs usually needs a high performance platform. PowerAI speeds up deep learning and AI. Built on IBM's Power Systems, PowerAI is a scalable software platform that accelerates deep learning and AI with blazing performance for individual users or enterprises. The PowerAI platform supports popular machine learning libraries and dependencies including Tensorflow, Caffe, Torch, and Theano. You can download a [free version of PowerAI](https://cocl.us/ML0120EN_PAI).\n",
    "\n",
    "Also, you can use Data Science Experience to run these notebooks faster with bigger datasets. Data Science Experience is IBM's leading cloud solution for data scientists, built by data scientists. With Jupyter notebooks, RStudio, Apache Spark and popular libraries pre-packaged in the cloud, DSX enables data scientists to collaborate on their projects without having to install anything. Join the fast-growing community of DSX users today with a free account at [Data Science Experience](https://cocl.us/ML0120EN_DSX)This is the end of this lesson. Hopefully, now you have a deeper and intuitive understanding regarding the LSTM model. Thank you for reading this notebook, and good luck on your studies."
   ]
  },
  {
   "cell_type": "markdown",
   "metadata": {
    "collapsed": true
   },
   "source": [
    "### Author"
   ]
  },
  {
   "cell_type": "markdown",
   "metadata": {},
   "source": [
    "Created by Jagadish Rangrej"
   ]
  },
  {
   "cell_type": "markdown",
   "metadata": {},
   "source": [
    "## Reference"
   ]
  },
  {
   "cell_type": "markdown",
   "metadata": {},
   "source": [
    "https://www.tensorflow.org/versions/r0.9/tutorials/mnist/beginners/index.html\n",
    "<br />\n",
    "https://en.wikipedia.org/wiki/Softmax_function\n",
    "<br />\n",
    "https://www.tensorflow.org/versions/r0.9/api_docs/python/nn.html#classification\n",
    "\n",
    "Fernandez-Juricic, E., A. Sallent, R. Sanz, and I. Rodriguez-Prieto. 2003. Testing the risk-disturbance hypothesis in a fragmented landscape: non-linear responses of house sparrows to humans. Condor 105: 316-326."
   ]
  }
 ],
 "metadata": {
  "anaconda-cloud": {},
  "kernelspec": {
   "display_name": "python3",
   "language": "python",
   "name": "python3"
  },
  "language_info": {
   "codemirror_mode": {
    "name": "ipython",
    "version": 3
   },
   "file_extension": ".py",
   "mimetype": "text/x-python",
   "name": "python",
   "nbconvert_exporter": "python",
   "pygments_lexer": "ipython3",
   "version": "3.6.6"
  }
 },
 "nbformat": 4,
 "nbformat_minor": 1
}
